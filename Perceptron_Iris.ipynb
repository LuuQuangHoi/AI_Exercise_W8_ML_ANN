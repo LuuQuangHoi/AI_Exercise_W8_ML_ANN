{
  "nbformat": 4,
  "nbformat_minor": 0,
  "metadata": {
    "colab": {
      "provenance": [],
      "authorship_tag": "ABX9TyMWIU5oOOBCNj45GU7pxT8u",
      "include_colab_link": true
    },
    "kernelspec": {
      "name": "python3",
      "display_name": "Python 3"
    },
    "language_info": {
      "name": "python"
    }
  },
  "cells": [
    {
      "cell_type": "markdown",
      "metadata": {
        "id": "view-in-github",
        "colab_type": "text"
      },
      "source": [
        "<a href=\"https://colab.research.google.com/github/LuuQuangHoi/AI_Exercise_W8_ML_ANN/blob/main/Perceptron_Iris.ipynb\" target=\"_parent\"><img src=\"https://colab.research.google.com/assets/colab-badge.svg\" alt=\"Open In Colab\"/></a>"
      ]
    },
    {
      "cell_type": "code",
      "source": [
        "X_train,X_test,y_train,y_test = train_test_split(X,y,test_size = 0.3)\n",
        "sc = StandardScaler()\n",
        "sc.fit(X_train)   #hoc ti le\n",
        "X_train_std = sc.transform(X_train)\n",
        "X_test_std = sc.transform(X_test)\n",
        "print(X_train_std[:5],X_train[:5])\n",
        "print(y[:5])"
      ],
      "metadata": {
        "colab": {
          "base_uri": "https://localhost:8080/"
        },
        "id": "3S7pUbmV7hSl",
        "outputId": "b0ae46c0-b3fa-4a43-c625-1350226455be"
      },
      "execution_count": null,
      "outputs": [
        {
          "output_type": "stream",
          "name": "stdout",
          "text": [
            "[[-0.17493143  2.95754112 -1.34842582 -1.10057318]\n",
            " [-0.68871606  1.43100129 -1.34842582 -1.36900566]\n",
            " [-0.5602699   1.43100129 -1.34842582 -1.36900566]\n",
            " [ 0.98108398 -0.09553855  0.34895187  0.24158923]\n",
            " [-1.20250069  0.12253857 -1.34842582 -1.5032219 ]] [[5.7 4.4 1.5 0.4]\n",
            " [5.3 3.7 1.5 0.2]\n",
            " [5.4 3.7 1.5 0.2]\n",
            " [6.6 3.  4.4 1.4]\n",
            " [4.9 3.1 1.5 0.1]]\n",
            "[0 0 0 0 0]\n"
          ]
        }
      ]
    },
    {
      "cell_type": "code",
      "execution_count": null,
      "metadata": {
        "colab": {
          "base_uri": "https://localhost:8080/"
        },
        "id": "YRPaaWLL11vh",
        "outputId": "ce6fc0ba-c009-448a-9d59-bc2114db6d10"
      },
      "outputs": [
        {
          "output_type": "stream",
          "name": "stdout",
          "text": [
            "[[5.1 3.5 1.4 0.2]\n",
            " [4.9 3.  1.4 0.2]\n",
            " [4.7 3.2 1.3 0.2]\n",
            " [4.6 3.1 1.5 0.2]\n",
            " [5.  3.6 1.4 0.2]]\n"
          ]
        }
      ],
      "source": [
        "from sklearn.linear_model import Perceptron\n",
        "from sklearn import datasets  #mnist\n",
        "from sklearn.model_selection import train_test_split\n",
        "from sklearn.metrics import accuracy_score\n",
        "from sklearn.preprocessing import StandardScaler\n",
        "\n",
        "iris = datasets.load_iris()\n",
        "X = iris.data\n",
        "y = iris.target\n",
        "print(X[:5])\n",
        "#print(y)\n",
        "#mnist  "
      ]
    },
    {
      "cell_type": "code",
      "source": [
        "model = Perceptron(max_iter=1000, eta0=0.1, random_state = 0) # epoch , toc do hoc 0 - 1 , trang thai lay giai tri ngau nhien\n",
        "model.fit(X_train_std,y_train)\n",
        "y_pred = model.predict(X_test_std)\n",
        "print(y_pred)\n",
        "print(y_test)\n",
        "print('Do chinh xac cua mo hinh:',accuracy_score(y_test,y_pred))"
      ],
      "metadata": {
        "colab": {
          "base_uri": "https://localhost:8080/"
        },
        "id": "EJNECCrP8xvt",
        "outputId": "5d8628b5-44c9-40a2-8950-615b56073d1d"
      },
      "execution_count": null,
      "outputs": [
        {
          "output_type": "stream",
          "name": "stdout",
          "text": [
            "[0 0 2 0 2 2 2 2 2 1 1 1 0 0 0 2 2 1 0 1 1 2 0 1 0 2 0 0 1 1 0 1 0 2 0 2 0\n",
            " 0 2 0 2 0 0 1 2]\n",
            "[0 0 2 0 2 2 2 2 1 1 2 1 0 0 0 1 2 1 0 1 1 2 0 1 1 2 0 0 1 1 1 1 0 2 0 2 0\n",
            " 0 2 0 2 0 0 1 2]\n",
            "Do chinh xac cua mo hinh: 0.8888888888888888\n"
          ]
        }
      ]
    },
    {
      "cell_type": "code",
      "source": [],
      "metadata": {
        "id": "GUxgOR4q-_bc"
      },
      "execution_count": null,
      "outputs": []
    },
    {
      "cell_type": "code",
      "source": [],
      "metadata": {
        "id": "dsd2WlRC4MRe"
      },
      "execution_count": null,
      "outputs": []
    }
  ]
}