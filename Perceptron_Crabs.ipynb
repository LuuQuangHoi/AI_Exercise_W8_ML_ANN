{
  "nbformat": 4,
  "nbformat_minor": 0,
  "metadata": {
    "colab": {
      "provenance": [],
      "authorship_tag": "ABX9TyPwLFQl2CFryzmJpk6CGF2I",
      "include_colab_link": true
    },
    "kernelspec": {
      "name": "python3",
      "display_name": "Python 3"
    },
    "language_info": {
      "name": "python"
    }
  },
  "cells": [
    {
      "cell_type": "markdown",
      "metadata": {
        "id": "view-in-github",
        "colab_type": "text"
      },
      "source": [
        "<a href=\"https://colab.research.google.com/github/LuuQuangHoi/AI_Exercise_W8_ML_ANN/blob/main/Perceptron_Crabs.ipynb\" target=\"_parent\"><img src=\"https://colab.research.google.com/assets/colab-badge.svg\" alt=\"Open In Colab\"/></a>"
      ]
    },
    {
      "cell_type": "code",
      "execution_count": 42,
      "metadata": {
        "id": "WiFVGuc7_WXf"
      },
      "outputs": [],
      "source": [
        "import pandas as pd\n",
        "import matplotlib.pyplot as plt\n",
        "url = '/content/crabs.csv'\n",
        "data = pd.read_csv(url)\n",
        "\n",
        "# speies B -> 0   O -> 1\n",
        "# sex M -> 1   F -> 0"
      ]
    },
    {
      "cell_type": "code",
      "source": [
        "from sklearn.linear_model import Perceptron\n",
        "from sklearn.model_selection import train_test_split\n",
        "from sklearn import datasets\n",
        "from sklearn.metrics import accuracy_score\n",
        "from sklearn.preprocessing import StandardScaler\n",
        "\n",
        "# Chuyen du lieu\n",
        "dataReplace = data.replace(to_replace=[\"B\",\"O\",\"M\",\"F\"],value = [0,1,1,0])\n",
        "data_x = dataReplace.drop(['sex'], axis=1)\n",
        "data_y = dataReplace.drop(['speies','index','fontallip','rearwidth',\n",
        "                           'length','width','depth'], axis=1)\n",
        "# Du lieu dau vao\n",
        "X = data_x.to_numpy()\n",
        "y = data_y.to_numpy()\n",
        "print(X)\n",
        "#print(y)"
      ],
      "metadata": {
        "colab": {
          "base_uri": "https://localhost:8080/"
        },
        "id": "-W0OL1PtAfeg",
        "outputId": "94c3b7e4-08a6-4f7e-bb3b-d9975dbd8f14"
      },
      "execution_count": 43,
      "outputs": [
        {
          "output_type": "stream",
          "name": "stdout",
          "text": [
            "[[ 0.   1.   8.1 ... 16.1 19.   7. ]\n",
            " [ 0.   2.   8.8 ... 18.1 20.8  7.4]\n",
            " [ 0.   3.   9.2 ... 19.  22.4  7.7]\n",
            " ...\n",
            " [ 1.  48.  21.9 ... 42.6 47.4 19.5]\n",
            " [ 1.  49.  22.5 ... 43.  48.7 19.8]\n",
            " [ 1.  50.  23.1 ... 46.2 52.5 21.1]]\n"
          ]
        }
      ]
    },
    {
      "cell_type": "code",
      "source": [
        "X_train,X_test,y_train,y_test = train_test_split(X,y,test_size = 0.3)\n",
        "sc = StandardScaler()\n",
        "sc.fit(X_train)   #hoc ti le\n",
        "X_train_std = sc.transform(X_train)\n",
        "X_test_std = sc.transform(X_test)\n",
        "print(X_train_std[:5],X_train[:5])\n",
        "print(y.T[:10])"
      ],
      "metadata": {
        "id": "Vqd0_L3UGDUg",
        "colab": {
          "base_uri": "https://localhost:8080/"
        },
        "outputId": "239ea4af-2b65-4c23-dfc9-50e6c6e22e10"
      },
      "execution_count": 52,
      "outputs": [
        {
          "output_type": "stream",
          "name": "stdout",
          "text": [
            "[[ 0.97182532  0.32027127  0.85804417  0.73626177  0.7040349   0.7301595\n",
            "   0.77759276]\n",
            " [ 0.97182532  0.90163889  0.94665458  0.41995445  1.02306205  0.90081448\n",
            "   1.17059993]\n",
            " [ 0.97182532 -0.55178016 -0.2938912  -0.56850592 -0.3255527  -0.38566149\n",
            "  -0.37119743]\n",
            " [ 0.97182532 -0.84246397  0.00147684  0.53856969 -0.16603913 -0.25438843\n",
            "  -0.06888422]\n",
            " [-1.02899151  0.53828412  0.20823447 -0.01496811  0.50101763  0.58575914\n",
            "   0.26366031]] [[ 1.  30.  18.5 14.6 37.  42.  16.6]\n",
            " [ 1.  38.  18.8 13.8 39.2 43.3 17.9]\n",
            " [ 1.  18.  14.6 11.3 29.9 33.5 12.8]\n",
            " [ 1.  14.  15.6 14.1 31.  34.5 13.8]\n",
            " [ 0.  33.  16.3 12.7 35.6 40.9 14.9]]\n",
            "[[1 1 1 1 1 1 1 1 1 1 1 1 1 1 1 1 1 1 1 1 1 1 1 1 1 1 1 1 1 1 1 1 1 1 1 1\n",
            "  1 1 1 1 1 1 1 1 1 1 1 1 1 1 0 0 0 0 0 0 0 0 0 0 0 0 0 0 0 0 0 0 0 0 0 0\n",
            "  0 0 0 0 0 0 0 0 0 0 0 0 0 0 0 0 0 0 0 0 0 0 0 0 0 0 0 0 1 1 1 1 1 1 1 1\n",
            "  1 1 1 1 1 1 1 1 1 1 1 1 1 1 1 1 1 1 1 1 1 1 1 1 1 1 1 1 1 1 1 1 1 1 1 1\n",
            "  1 1 1 1 1 1 0 0 0 0 0 0 0 0 0 0 0 0 0 0 0 0 0 0 0 0 0 0 0 0 0 0 0 0 0 0\n",
            "  0 0 0 0 0 0 0 0 0 0 0 0 0 0 0 0 0 0 0 0]]\n"
          ]
        }
      ]
    },
    {
      "cell_type": "code",
      "source": [
        "model = Perceptron(max_iter=500, eta0=0.1, random_state = 0) # epoch , toc do hoc 0 - 1 , trang thai lay giai tri ngau nhien\n",
        "model.fit(X_train_std,y_train)\n",
        "y_pred = model.predict(X_test_std)\n",
        "print(y_pred)\n",
        "#print(y_test)\n",
        "print('Do chinh xac cua mo hinh:',accuracy_score(y_test,y_pred))"
      ],
      "metadata": {
        "id": "7e_bDaDUGLL2",
        "colab": {
          "base_uri": "https://localhost:8080/"
        },
        "outputId": "d016ad8b-7cd3-442a-aaba-276bc6f2218c"
      },
      "execution_count": 53,
      "outputs": [
        {
          "output_type": "stream",
          "name": "stdout",
          "text": [
            "[1 0 1 0 0 1 0 0 0 1 1 0 0 0 0 1 0 0 0 0 1 0 1 0 1 0 0 1 1 0 0 1 0 1 0 1 1\n",
            " 0 0 1 1 1 1 1 1 0 0 1 0 0 0 1 1 0 0 0 1 0 0 1]\n",
            "Do chinh xac cua mo hinh: 0.95\n"
          ]
        },
        {
          "output_type": "stream",
          "name": "stderr",
          "text": [
            "/usr/local/lib/python3.9/dist-packages/sklearn/utils/validation.py:1143: DataConversionWarning: A column-vector y was passed when a 1d array was expected. Please change the shape of y to (n_samples, ), for example using ravel().\n",
            "  y = column_or_1d(y, warn=True)\n"
          ]
        }
      ]
    }
  ]
}